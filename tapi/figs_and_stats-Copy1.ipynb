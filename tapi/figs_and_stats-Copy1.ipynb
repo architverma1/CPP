{
 "cells": [
  {
   "cell_type": "code",
   "execution_count": 1,
   "metadata": {},
   "outputs": [],
   "source": [
    "import numpy as np\n",
    "import matplotlib.pyplot as plt\n",
    "from scipy import stats"
   ]
  },
  {
   "cell_type": "code",
   "execution_count": 2,
   "metadata": {},
   "outputs": [],
   "source": [
    "from scipy.io import loadmat\n",
    "from scipy.spatial.distance import pdist, squareform, cdist"
   ]
  },
  {
   "cell_type": "code",
   "execution_count": null,
   "metadata": {},
   "outputs": [],
   "source": []
  },
  {
   "cell_type": "code",
   "execution_count": 3,
   "metadata": {},
   "outputs": [],
   "source": [
    "def softplus_inv(x):\n",
    "    return np.log(np.exp(x) - 1)"
   ]
  },
  {
   "cell_type": "code",
   "execution_count": 4,
   "metadata": {},
   "outputs": [],
   "source": [
    "plt.style.use('seaborn-poster')"
   ]
  },
  {
   "cell_type": "code",
   "execution_count": 5,
   "metadata": {},
   "outputs": [
    {
     "data": {
      "text/plain": [
       "array('cpp2g - epsilon = 60, init with mu = half control mu, a = half control mu, b = .01*ones, bjj = 1, model with self',\n",
       "      dtype='<U113')"
      ]
     },
     "execution_count": 5,
     "metadata": {},
     "output_type": "execute_result"
    }
   ],
   "source": [
    "learned = np.load('learned-103120.npz')\n",
    "learned['note']\n",
    "#control = np.load('learned-control-082020.npz')"
   ]
  },
  {
   "cell_type": "code",
   "execution_count": 6,
   "metadata": {},
   "outputs": [],
   "source": [
    "dat = loadmat('/tigress/architv/ORGANIZED_CODE_FOR_UPLOAD/tapi_dose.mat')"
   ]
  },
  {
   "cell_type": "code",
   "execution_count": 7,
   "metadata": {},
   "outputs": [],
   "source": [
    "control_mu = np.zeros(20)\n",
    "for i in range(20):\n",
    "    well = i\n",
    "    traces = dat['well'][0][well]['PeakTimes']\n",
    "    peaks = 0\n",
    "    for j in range(len(traces[0])):\n",
    "        peaks += len(traces[0][j])\n",
    "    x = dat['well'][0][well]['x']\n",
    "    control_mu[i] = peaks/(480. * x.shape[1])"
   ]
  },
  {
   "cell_type": "code",
   "execution_count": 8,
   "metadata": {},
   "outputs": [
    {
     "data": {
      "text/plain": [
       "array([-3.42479631, -3.12282473, -4.94791443, -5.20922185, -3.13878155,\n",
       "       -3.45604336, -4.16665094, -3.36763455, -3.12035308, -3.12004978,\n",
       "       -2.89746214, -3.15723921, -4.12155991, -3.79047127, -3.61579187,\n",
       "       -3.13326651, -3.66591386, -2.8704319 , -4.80253973])"
      ]
     },
     "execution_count": 8,
     "metadata": {},
     "output_type": "execute_result"
    }
   ],
   "source": [
    "100 * np.divide(learned['mu'][0][1:,0] - control_mu[1:], control_mu[1:])"
   ]
  },
  {
   "cell_type": "code",
   "execution_count": 9,
   "metadata": {},
   "outputs": [
    {
     "data": {
      "text/plain": [
       "array([0.0234375 , 0.01480429, 0.01753003, 0.01818182, 0.02139985,\n",
       "       0.01387472, 0.01366279, 0.01325967, 0.01220878, 0.01260965,\n",
       "       0.00994078, 0.01042775, 0.01151961, 0.01073543, 0.0109095 ,\n",
       "       0.01061321, 0.01056171, 0.01      , 0.01089481, 0.01072573])"
      ]
     },
     "execution_count": 9,
     "metadata": {},
     "output_type": "execute_result"
    }
   ],
   "source": [
    "control_mu"
   ]
  },
  {
   "cell_type": "code",
   "execution_count": null,
   "metadata": {},
   "outputs": [],
   "source": []
  },
  {
   "cell_type": "code",
   "execution_count": 10,
   "metadata": {},
   "outputs": [],
   "source": [
    "# plt.scatter(control_mu[1:], learned['mu'][0][1:,0], s = 5)\n",
    "# plt.plot([0,0.02],[0,0.02],'k--')\n",
    "# plt.show()"
   ]
  },
  {
   "cell_type": "code",
   "execution_count": 11,
   "metadata": {},
   "outputs": [],
   "source": [
    "names = ['$\\mu$','a','b','$\\epsilon$','$a_{jj}$']"
   ]
  },
  {
   "cell_type": "code",
   "execution_count": 12,
   "metadata": {},
   "outputs": [],
   "source": [
    "tapi_concentrations = np.array([0,0,0,0, 5,5,5,5,5, 10,10,10,10,10, 20,20,20,20,20])\n",
    "cs = np.unique(tapi_concentrations)"
   ]
  },
  {
   "cell_type": "code",
   "execution_count": 13,
   "metadata": {},
   "outputs": [],
   "source": [
    "def return_stats(mu):\n",
    "\n",
    "    ixs = [0,4,9,14,19]\n",
    "    control = mu[0:4]\n",
    "    \n",
    "    means = np.zeros(4)\n",
    "    SEs = np.zeros(4)\n",
    "    ps = np.zeros(4)\n",
    "    Ts = np.zeros(4)\n",
    "    \n",
    "    \n",
    "    for i in range(len(cs)):\n",
    "        low = ixs[i]\n",
    "        high = ixs[i+1]\n",
    "        #print(cs[i])\n",
    "        sample = mu[low:high]\n",
    "        means[i] = np.mean(sample)\n",
    "        SEs[i] = stats.sem(sample)\n",
    "        if i > 0:\n",
    "            Ts[i], ps[i] = stats.ttest_ind(control, sample, equal_var = False)\n",
    "            #print(stats.ttest_ind(control, sample, equal_var = False))\n",
    "    return means, SEs, ps, Ts"
   ]
  },
  {
   "cell_type": "code",
   "execution_count": null,
   "metadata": {},
   "outputs": [],
   "source": []
  },
  {
   "cell_type": "code",
   "execution_count": null,
   "metadata": {},
   "outputs": [],
   "source": []
  },
  {
   "cell_type": "code",
   "execution_count": 14,
   "metadata": {},
   "outputs": [
    {
     "name": "stdout",
     "output_type": "stream",
     "text": [
      "[1.72117898 1.26701641 1.03402147 1.01772705]\n",
      "[0.12246441 0.03025786 0.02491412 0.01527017]\n",
      "[0.         0.0303762  0.00956902 0.00984622]\n",
      " \n"
     ]
    },
    {
     "data": {
      "image/png": "[encoded data removed]",
      "text/plain": [
       "<Figure size 921.6x633.6 with 1 Axes>"
      ]
     },
     "metadata": {
      "needs_background": "light"
     },
     "output_type": "display_data"
    }
   ],
   "source": [
    "for j in range(1):\n",
    "    means, SEs, ps, Ts = return_stats(np.reshape(learned['mu'][j,1:],-1))\n",
    "    print(means * 100)\n",
    "    print(SEs* 100)\n",
    "    print(ps)\n",
    "    print(' ')\n",
    "    \n",
    "for j in range(1):\n",
    "    plt.errorbar([0,5,10,20], means, yerr = SEs, fmt = 'bo-', \n",
    "                 capsize= 5, elinewidth=3, markeredgewidth = 3, linewidth = 3)\n",
    "    plt.scatter(tapi_concentrations, learned['mu'][j,1:],\n",
    "           c = 'k', s = 50.)\n",
    "    plt.xlabel('Tapi Concentration $\\mu$L/mL')\n",
    "    plt.ylabel('$\\mu \\, (min^{-1})$')\n",
    "    plt.savefig('tapi-mu-103120.pdf')\n",
    "\n",
    "mu = means"
   ]
  },
  {
   "cell_type": "code",
   "execution_count": 15,
   "metadata": {},
   "outputs": [
    {
     "name": "stdout",
     "output_type": "stream",
     "text": [
      "[1.2246441  0.30257856 0.24914118 0.15270174]\n"
     ]
    }
   ],
   "source": [
    "print(SEs * 10e2)"
   ]
  },
  {
   "cell_type": "code",
   "execution_count": 16,
   "metadata": {},
   "outputs": [
    {
     "data": {
      "text/plain": [
       "0.152097763"
      ]
     },
     "execution_count": 16,
     "metadata": {},
     "output_type": "execute_result"
    }
   ],
   "source": [
    "1.52097763e-04 * 1e3"
   ]
  },
  {
   "cell_type": "code",
   "execution_count": 17,
   "metadata": {},
   "outputs": [
    {
     "name": "stdout",
     "output_type": "stream",
     "text": [
      "[1.1558085  0.67324868 0.5872034  0.60597306]\n",
      "[0.20667658 0.02781085 0.04131664 0.07469549]\n",
      "[0.         0.10057691 0.06799391 0.07013628]\n",
      "\n",
      "LinregressResult(slope=-0.0002146507973755397, intercept=0.009321972948658136, rvalue=-0.5412259827271313, pvalue=0.016707648029324992, stderr=8.088387987645276e-05)\n",
      " \n",
      "LinregressResult(slope=0.0, intercept=0.0, rvalue=0.0, pvalue=1.0, stderr=0.0)\n",
      " \n",
      "LinregressResult(slope=0.0, intercept=0.0, rvalue=0.0, pvalue=1.0, stderr=0.0)\n",
      " \n"
     ]
    }
   ],
   "source": [
    "for j in range(1):\n",
    "    means, SEs, ps, Ts = return_stats(np.reshape(learned['a'][j,1:],-1))\n",
    "    print(means * 100)\n",
    "    print(SEs * 100)\n",
    "    print(ps)\n",
    "    print('')\n",
    "    \n",
    "for j in range(3):\n",
    "    print(stats.linregress(tapi_concentrations, np.reshape(learned['a'][j,1:],-1)))\n",
    "    print(' ')\n",
    "    \n",
    "a = means"
   ]
  },
  {
   "cell_type": "code",
   "execution_count": 18,
   "metadata": {},
   "outputs": [
    {
     "data": {
      "image/png": "[encoded data removed]",
      "text/plain": [
       "<Figure size 921.6x633.6 with 1 Axes>"
      ]
     },
     "metadata": {
      "needs_background": "light"
     },
     "output_type": "display_data"
    }
   ],
   "source": [
    "for j in range(1):\n",
    "    plt.errorbar([0,5,10,20], means, yerr = SEs, fmt = 'bo-', \n",
    "                 capsize= 5, elinewidth=3, markeredgewidth = 3, linewidth = 3)\n",
    "    plt.scatter(tapi_concentrations, learned['a'][j,1:],\n",
    "        c = 'k', s = 50., label = j)\n",
    "    plt.xlabel('Tapi Concentration $\\mu$L/mL')\n",
    "    plt.ylabel('$a (min^{-1})$')\n",
    "plt.savefig('tapi-a-103120.pdf')"
   ]
  },
  {
   "cell_type": "code",
   "execution_count": null,
   "metadata": {},
   "outputs": [],
   "source": []
  },
  {
   "cell_type": "code",
   "execution_count": 19,
   "metadata": {},
   "outputs": [
    {
     "name": "stdout",
     "output_type": "stream",
     "text": [
      "[0.82714919 0.77820902 0.70947337 0.68197829]\n",
      "[0.10343737 0.06980919 0.02750911 0.01146202]\n",
      "[0.         0.70966853 0.34275889 0.25532515]\n",
      " \n"
     ]
    },
    {
     "data": {
      "image/png": "[encoded data removed]",
      "text/plain": [
       "<Figure size 921.6x633.6 with 1 Axes>"
      ]
     },
     "metadata": {
      "needs_background": "light"
     },
     "output_type": "display_data"
    }
   ],
   "source": [
    "for j in range(1):\n",
    "    ajj = np.multiply(np.reshape(learned['ajj'][j,1:],-1), np.reshape(learned['a'][j,1:],-1))\n",
    "    means, SEs, ps, Ts = return_stats(ajj)\n",
    "    print(means * 100)\n",
    "    print(SEs* 100)\n",
    "    print(ps)\n",
    "    print(' ')\n",
    "    \n",
    "for j in range(1):\n",
    "    plt.errorbar([0,5,10,20], means, yerr = SEs, fmt = 'bo-', \n",
    "                 capsize= 5, elinewidth=3, markeredgewidth = 3, linewidth = 3)\n",
    "    plt.scatter(tapi_concentrations, ajj,\n",
    "           c = 'k', s = 50.)\n",
    "    plt.xlabel('Tapi Concentration $\\mu$L/mL')\n",
    "    plt.ylabel('$a_{self} \\, (min^{-1})$')\n",
    "    plt.savefig('tapi-ajj-103120.pdf')\n",
    "\n",
    "#ajj = means"
   ]
  },
  {
   "cell_type": "code",
   "execution_count": null,
   "metadata": {},
   "outputs": [],
   "source": []
  },
  {
   "cell_type": "code",
   "execution_count": 20,
   "metadata": {},
   "outputs": [
    {
     "name": "stdout",
     "output_type": "stream",
     "text": [
      "[0.29152292 0.65858614 0.56526866 0.68972113]\n",
      "[0.16830578 0.17563031 0.20036661 0.17274373]\n",
      "[0.         0.17548073 0.33030424 0.14330921]\n",
      " \n"
     ]
    },
    {
     "data": {
      "image/png": "[encoded data removed]",
      "text/plain": [
       "<Figure size 921.6x633.6 with 1 Axes>"
      ]
     },
     "metadata": {
      "needs_background": "light"
     },
     "output_type": "display_data"
    }
   ],
   "source": [
    "for j in range(1):\n",
    "    bjj = np.multiply(np.reshape(learned['bjj'][j,1:],-1), np.reshape(learned['b'][j,1:], -1))\n",
    "    means, SEs, ps, Ts = return_stats(bjj)\n",
    "    print(means * 100)\n",
    "    print(SEs* 100)\n",
    "    print(ps)\n",
    "    print(' ')\n",
    "    \n",
    "for j in range(1):\n",
    "    plt.errorbar([0,5,10,20], means, yerr = SEs, fmt = 'bo-', \n",
    "                 capsize= 5, elinewidth=3, markeredgewidth = 3, linewidth = 3)\n",
    "    plt.scatter(tapi_concentrations, bjj,\n",
    "           c = 'k', s = 50.)\n",
    "    plt.xlabel('Tapi Concentration $\\mu$L/mL')\n",
    "    plt.ylabel('$b_{self} \\, (min^{-1})$')\n",
    "    plt.savefig('tapi-bjj-103120.pdf')\n",
    "    #plt.show()\n",
    "\n",
    "#bjj = means"
   ]
  },
  {
   "cell_type": "code",
   "execution_count": null,
   "metadata": {},
   "outputs": [],
   "source": []
  },
  {
   "cell_type": "code",
   "execution_count": 21,
   "metadata": {},
   "outputs": [
    {
     "name": "stdout",
     "output_type": "stream",
     "text": [
      "[0.29152292 0.65858614 0.56526866 0.68972113]\n",
      "[0.16830578 0.17563031 0.20036661 0.17274373]\n",
      "[0.         0.17548073 0.33030424 0.14330921]\n",
      " \n"
     ]
    },
    {
     "data": {
      "image/png": "[encoded data removed]",
      "text/plain": [
       "<Figure size 921.6x633.6 with 1 Axes>"
      ]
     },
     "metadata": {
      "needs_background": "light"
     },
     "output_type": "display_data"
    }
   ],
   "source": [
    "for j in range(1):\n",
    "    bhat = np.reshape(learned['b'][j,1:], -1)\n",
    "    #muhat = np.reshape(learned['mu'][j,1:], -1)\n",
    "    means, SEs, ps, Ts = return_stats(bhat)\n",
    "    print(means * 100)\n",
    "    print(SEs* 100)\n",
    "    print(ps)\n",
    "    print(' ')\n",
    "    \n",
    "for j in range(1):\n",
    "    plt.errorbar([0,5,10,20], means, yerr = SEs, fmt = 'bo-', \n",
    "                 capsize= 5, elinewidth=3, markeredgewidth = 3, linewidth = 3)\n",
    "    bhat = np.reshape(learned['b'][j,1:], -1)\n",
    "    #muhat = np.reshape(learned['mu'][j,1:], -1)\n",
    "    plt.scatter(tapi_concentrations, bhat,\n",
    "           c = 'k', s = 50.)\n",
    "    plt.xlabel('Tapi Concentration $\\mu$L/mL')\n",
    "    plt.ylabel('$b\\,(min)$')\n",
    "    plt.savefig('tapi-b-103120.pdf')"
   ]
  },
  {
   "cell_type": "code",
   "execution_count": 22,
   "metadata": {},
   "outputs": [
    {
     "data": {
      "image/png": "[encoded data removed]",
      "text/plain": [
       "<Figure size 921.6x633.6 with 1 Axes>"
      ]
     },
     "metadata": {
      "needs_background": "light"
     },
     "output_type": "display_data"
    }
   ],
   "source": [
    "for i in range(len(cs)):\n",
    "    plt.scatter(mu[i], a[i], label = cs[i])\n",
    "plt.xlabel('$\\mu (min^{-1})$')\n",
    "plt.ylabel('$a (min^{-1})$')\n",
    "plt.legend()\n",
    "plt.savefig('tapi-a-mu-103120.pdf')"
   ]
  },
  {
   "cell_type": "code",
   "execution_count": 23,
   "metadata": {},
   "outputs": [
    {
     "data": {
      "text/plain": [
       "array([   0.        , 4799.47802734, 4633.29101562, 5000.68994141,\n",
       "       4800.99609375, 5113.40820312, 4393.29833984, 5587.16699219,\n",
       "       2908.99707031, 1842.74658203, 5202.91210938, 5198.99902344,\n",
       "       4586.03027344, 5034.30078125, 5184.203125  , 4432.85693359,\n",
       "       4385.29150391, 3987.93115234, 5220.36474609, 4683.3125    ])"
      ]
     },
     "execution_count": 23,
     "metadata": {},
     "output_type": "execute_result"
    }
   ],
   "source": [
    "learned['likelihood'][0]"
   ]
  },
  {
   "cell_type": "code",
   "execution_count": null,
   "metadata": {},
   "outputs": [],
   "source": []
  },
  {
   "cell_type": "code",
   "execution_count": null,
   "metadata": {},
   "outputs": [],
   "source": []
  },
  {
   "cell_type": "code",
   "execution_count": null,
   "metadata": {},
   "outputs": [],
   "source": []
  },
  {
   "cell_type": "code",
   "execution_count": null,
   "metadata": {
    "scrolled": false
   },
   "outputs": [],
   "source": []
  },
  {
   "cell_type": "code",
   "execution_count": null,
   "metadata": {},
   "outputs": [],
   "source": []
  },
  {
   "cell_type": "code",
   "execution_count": null,
   "metadata": {},
   "outputs": [],
   "source": []
  },
  {
   "cell_type": "code",
   "execution_count": null,
   "metadata": {},
   "outputs": [],
   "source": []
  },
  {
   "cell_type": "code",
   "execution_count": null,
   "metadata": {},
   "outputs": [],
   "source": []
  },
  {
   "cell_type": "code",
   "execution_count": null,
   "metadata": {},
   "outputs": [],
   "source": []
  },
  {
   "cell_type": "code",
   "execution_count": null,
   "metadata": {},
   "outputs": [],
   "source": []
  },
  {
   "cell_type": "code",
   "execution_count": null,
   "metadata": {},
   "outputs": [],
   "source": []
  },
  {
   "cell_type": "code",
   "execution_count": null,
   "metadata": {},
   "outputs": [],
   "source": []
  },
  {
   "cell_type": "markdown",
   "metadata": {},
   "source": []
  },
  {
   "cell_type": "code",
   "execution_count": null,
   "metadata": {},
   "outputs": [],
   "source": []
  },
  {
   "cell_type": "code",
   "execution_count": null,
   "metadata": {},
   "outputs": [],
   "source": []
  },
  {
   "cell_type": "code",
   "execution_count": null,
   "metadata": {},
   "outputs": [],
   "source": []
  },
  {
   "cell_type": "code",
   "execution_count": null,
   "metadata": {},
   "outputs": [],
   "source": []
  },
  {
   "cell_type": "code",
   "execution_count": null,
   "metadata": {},
   "outputs": [],
   "source": []
  },
  {
   "cell_type": "code",
   "execution_count": null,
   "metadata": {},
   "outputs": [],
   "source": []
  },
  {
   "cell_type": "code",
   "execution_count": null,
   "metadata": {},
   "outputs": [],
   "source": []
  },
  {
   "cell_type": "code",
   "execution_count": null,
   "metadata": {},
   "outputs": [],
   "source": []
  },
  {
   "cell_type": "code",
   "execution_count": null,
   "metadata": {},
   "outputs": [],
   "source": []
  },
  {
   "cell_type": "code",
   "execution_count": null,
   "metadata": {},
   "outputs": [],
   "source": []
  },
  {
   "cell_type": "code",
   "execution_count": null,
   "metadata": {},
   "outputs": [],
   "source": []
  },
  {
   "cell_type": "code",
   "execution_count": null,
   "metadata": {},
   "outputs": [],
   "source": []
  },
  {
   "cell_type": "code",
   "execution_count": null,
   "metadata": {},
   "outputs": [],
   "source": []
  },
  {
   "cell_type": "code",
   "execution_count": null,
   "metadata": {},
   "outputs": [],
   "source": []
  },
  {
   "cell_type": "code",
   "execution_count": null,
   "metadata": {},
   "outputs": [],
   "source": []
  },
  {
   "cell_type": "code",
   "execution_count": null,
   "metadata": {},
   "outputs": [],
   "source": []
  },
  {
   "cell_type": "code",
   "execution_count": null,
   "metadata": {},
   "outputs": [],
   "source": []
  },
  {
   "cell_type": "code",
   "execution_count": null,
   "metadata": {},
   "outputs": [],
   "source": []
  },
  {
   "cell_type": "code",
   "execution_count": null,
   "metadata": {},
   "outputs": [],
   "source": []
  },
  {
   "cell_type": "code",
   "execution_count": null,
   "metadata": {},
   "outputs": [],
   "source": []
  },
  {
   "cell_type": "code",
   "execution_count": null,
   "metadata": {},
   "outputs": [],
   "source": []
  },
  {
   "cell_type": "code",
   "execution_count": null,
   "metadata": {},
   "outputs": [],
   "source": []
  },
  {
   "cell_type": "code",
   "execution_count": null,
   "metadata": {},
   "outputs": [],
   "source": []
  },
  {
   "cell_type": "code",
   "execution_count": null,
   "metadata": {},
   "outputs": [],
   "source": []
  },
  {
   "cell_type": "code",
   "execution_count": null,
   "metadata": {},
   "outputs": [],
   "source": []
  },
  {
   "cell_type": "code",
   "execution_count": null,
   "metadata": {},
   "outputs": [],
   "source": []
  },
  {
   "cell_type": "code",
   "execution_count": null,
   "metadata": {
    "scrolled": false
   },
   "outputs": [],
   "source": []
  },
  {
   "cell_type": "code",
   "execution_count": null,
   "metadata": {},
   "outputs": [],
   "source": []
  },
  {
   "cell_type": "code",
   "execution_count": null,
   "metadata": {},
   "outputs": [],
   "source": []
  },
  {
   "cell_type": "code",
   "execution_count": null,
   "metadata": {},
   "outputs": [],
   "source": []
  },
  {
   "cell_type": "code",
   "execution_count": null,
   "metadata": {
    "scrolled": false
   },
   "outputs": [],
   "source": []
  },
  {
   "cell_type": "code",
   "execution_count": null,
   "metadata": {},
   "outputs": [],
   "source": []
  },
  {
   "cell_type": "code",
   "execution_count": null,
   "metadata": {},
   "outputs": [],
   "source": []
  },
  {
   "cell_type": "code",
   "execution_count": null,
   "metadata": {},
   "outputs": [],
   "source": []
  },
  {
   "cell_type": "code",
   "execution_count": null,
   "metadata": {},
   "outputs": [],
   "source": []
  },
  {
   "cell_type": "code",
   "execution_count": null,
   "metadata": {},
   "outputs": [],
   "source": []
  },
  {
   "cell_type": "code",
   "execution_count": null,
   "metadata": {},
   "outputs": [],
   "source": []
  },
  {
   "cell_type": "code",
   "execution_count": null,
   "metadata": {},
   "outputs": [],
   "source": []
  },
  {
   "cell_type": "code",
   "execution_count": null,
   "metadata": {},
   "outputs": [],
   "source": []
  },
  {
   "cell_type": "code",
   "execution_count": null,
   "metadata": {},
   "outputs": [],
   "source": []
  },
  {
   "cell_type": "code",
   "execution_count": null,
   "metadata": {},
   "outputs": [],
   "source": []
  },
  {
   "cell_type": "code",
   "execution_count": null,
   "metadata": {},
   "outputs": [],
   "source": []
  },
  {
   "cell_type": "code",
   "execution_count": null,
   "metadata": {},
   "outputs": [],
   "source": []
  },
  {
   "cell_type": "code",
   "execution_count": null,
   "metadata": {},
   "outputs": [],
   "source": []
  },
  {
   "cell_type": "code",
   "execution_count": null,
   "metadata": {},
   "outputs": [],
   "source": []
  },
  {
   "cell_type": "code",
   "execution_count": null,
   "metadata": {},
   "outputs": [],
   "source": []
  },
  {
   "cell_type": "code",
   "execution_count": null,
   "metadata": {},
   "outputs": [],
   "source": []
  },
  {
   "cell_type": "code",
   "execution_count": null,
   "metadata": {},
   "outputs": [],
   "source": []
  },
  {
   "cell_type": "code",
   "execution_count": null,
   "metadata": {},
   "outputs": [],
   "source": []
  }
 ],
 "metadata": {
  "kernelspec": {
   "display_name": "Python 3",
   "language": "python",
   "name": "python3"
  },
  "language_info": {
   "codemirror_mode": {
    "name": "ipython",
    "version": 3
   },
   "file_extension": ".py",
   "mimetype": "text/x-python",
   "name": "python",
   "nbconvert_exporter": "python",
   "pygments_lexer": "ipython3",
   "version": "3.8.3"
  }
 },
 "nbformat": 4,
 "nbformat_minor": 4
}
