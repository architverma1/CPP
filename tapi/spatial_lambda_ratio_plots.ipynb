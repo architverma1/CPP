{
 "cells": [
  {
   "cell_type": "code",
   "execution_count": 1,
   "metadata": {},
   "outputs": [],
   "source": [
    "import numpy as np\n",
    "import matplotlib.pyplot as plt\n",
    "from scipy import stats\n",
    "from scipy.io import loadmat\n",
    "from scipy.spatial.distance import pdist, squareform, cdist"
   ]
  },
  {
   "cell_type": "code",
   "execution_count": 2,
   "metadata": {},
   "outputs": [],
   "source": [
    "plt.style.use('seaborn-poster')"
   ]
  },
  {
   "cell_type": "code",
   "execution_count": 3,
   "metadata": {},
   "outputs": [],
   "source": [
    "date = '103120'\n",
    "learned = np.load('learned-' + date + '.npz')\n",
    "dat = loadmat('/tigress/architv/ORGANIZED_CODE_FOR_UPLOAD/tapi_dose.mat')"
   ]
  },
  {
   "cell_type": "code",
   "execution_count": 4,
   "metadata": {},
   "outputs": [],
   "source": [
    "tapi_concentrations = np.array([0,0,0,0, 5,5,5,5,5, 10,10,10,10,10, 20,20,20,20,20])\n",
    "cs = np.unique(tapi_concentrations)"
   ]
  },
  {
   "cell_type": "code",
   "execution_count": 5,
   "metadata": {},
   "outputs": [],
   "source": [
    "def lognormalPDF_np(x, mu, sigma):\n",
    "    x[x == 0] = 1e-100\n",
    "    numerator = np.square(np.log(x) - mu)\n",
    "    denominator = 2*np.square(sigma)\n",
    "    exponent = np.exp(-np.divide(numerator,denominator))\n",
    "    multiplier = 1./(np.sqrt(2*np.pi) * np.multiply(x, sigma))\n",
    "    pdf = np.multiply(multiplier, exponent)\n",
    "    pdf[np.isnan(pdf)] = 0.\n",
    "    return pdf"
   ]
  },
  {
   "cell_type": "code",
   "execution_count": 6,
   "metadata": {},
   "outputs": [],
   "source": [
    "def return_intensity_plots(well, nt = 1000, cells_to_plot = [1,95,97], tlim = [100,200]):\n",
    "    b = learned['b'][0,well]\n",
    "    mu = learned['mu'][0,well]\n",
    "    a = learned['a'][0,well]\n",
    "    ajj = learned['ajj'][0,well]\n",
    "    bjj = learned['bjj'][0,well]\n",
    "    bm = 0\n",
    "    t_exp = dat['well'][0][well]['t']\n",
    "    traces = dat['well'][0][well]['PeakTimes']\n",
    "    events = []\n",
    "    for j in range(len(traces[0])):\n",
    "        events.append(np.reshape(traces[0][j],-1).astype(np.float64))\n",
    "    y_flat = np.hstack(events)\n",
    "    x = dat['well'][0][well]['x']\n",
    "    y = dat['well'][0][well]['y']\n",
    "    coords = np.vstack((x[0],y[0])).T\n",
    "    peaks = events\n",
    "    which_cell = np.zeros(len(y_flat))\n",
    "    i0 = 0\n",
    "    for i in range(len(peaks)):\n",
    "        i1 = i0 + len(peaks[i])\n",
    "        which_cell[i0:i1] = i\n",
    "        i0 = i1\n",
    "\n",
    "    y_sorted = np.sort(y_flat)\n",
    "    cells_sorted = which_cell[np.argsort(y_flat)].astype(np.int)\n",
    "    d = squareform(pdist(coords))\n",
    "\n",
    "    tmax = np.max(y_sorted) + 10\n",
    "    t = np.linspace(0,tmax,nt)\n",
    "    \n",
    "    N = x.shape[1]\n",
    "    ci = np.zeros((N,nt))\n",
    "    \n",
    "    cmu = np.zeros((N,nt))\n",
    "    cajj = np.zeros((N,nt))\n",
    "    cab = np.zeros((N,nt))\n",
    "    for j in range(N):\n",
    "        ci0 = mu * np.ones((1,nt))\n",
    "        cmu[j] = ci0\n",
    "        for i in range(len(y_sorted)):\n",
    "            dt = np.multiply(t - y_sorted[i], t > y_sorted[i])\n",
    "            if cells_sorted[i] == j:\n",
    "                cii = ajj * a * lognormalPDF_np(dt, bm, bjj*b)\n",
    "                cajj[j] += np.reshape(np.multiply(cii, t > y_sorted[i]), -1)\n",
    "            else:\n",
    "                cii = a * lognormalPDF_np(dt, bm, b) * (d[j,cells_sorted[i]] < 60.)\n",
    "                cab[j] += np.reshape(np.multiply(cii, t > y_sorted[i]), -1)\n",
    "            cii = np.multiply(cii, t > y_sorted[i])\n",
    "            ci0 += cii\n",
    "        ci[j] = ci0\n",
    "    return ci, cmu, cajj, cab\n",
    "#     fig, ax = plt.subplots(len(cells_to_plot),1,sharex = True)\n",
    "#     ix = 0\n",
    "#     for i in cells_to_plot:\n",
    "#         for j in range(len(peaks[i])):\n",
    "#             ax[ix].plot(np.array([peaks[i][j],peaks[i][j]]), [np.min(ci[i]),np.max(ci[i])], 'k--')\n",
    "#             pass\n",
    "#         #ax[i].scatter(peaks[i], 0.5*np.ones(npeaks), c = 'k', s = 5e4, marker = '|')\n",
    "#         ax[ix].plot(t, ci[i], color = 'k', linewidth = 1.)\n",
    "#         ax[ix].plot(t, mu * np.ones(len(ci[i])), linewidth = 1., c = 'r')\n",
    "#         ax[ix].set_ylabel('$\\lambda_{' + str(i+1) + '}$')\n",
    "#         ix += 1\n",
    "#     ax[len(cells_to_plot)-1].set_xlabel('t')\n",
    "#     plt.show()\n",
    "    \n",
    "#     fig, ax = plt.subplots(len(cells_to_plot),1,sharex = True)\n",
    "#     ix = 0\n",
    "\n",
    "#     for i in cells_to_plot:\n",
    "#         for j in range(len(peaks[i])):\n",
    "#             ax[ix].plot(np.array([peaks[i][j],peaks[i][j]]), [0,np.max(ci[i])], 'k--', linewidth = 0.5)\n",
    "#             pass\n",
    "#         #ax[i].scatter(peaks[i], 0.5*np.ones(npeaks), c = 'k', s = 5e4, marker = '|')\n",
    "#         ax[ix].stackplot(t, cmu[i], cajj[i], cab[i], labels = ['Autonomous', 'Self-Excitation', 'Spatial-Excitation'])\n",
    "#         ax[ix].set_ylabel('$\\lambda_{' + str(i+1) + '}$')\n",
    "#         ax[ix].set_xlim(tlim)\n",
    "#         ix += 1\n",
    "#     ax[len(cells_to_plot)-1].set_xlabel('t')\n",
    "#     ax[0].legend(loc = 'lower left')\n",
    "#     plt.show()\n",
    "    \n",
    "#     plt.scatter(x[0], y[0], c = np.mean(cab, axis = 1), cmap = 'Blues', edgecolor = 'b')\n",
    "#     plt.colorbar()\n",
    "#     plt.show()"
   ]
  },
  {
   "cell_type": "code",
   "execution_count": 7,
   "metadata": {},
   "outputs": [],
   "source": [
    "ci, cmu, cajj, cab = return_intensity_plots(4)"
   ]
  },
  {
   "cell_type": "code",
   "execution_count": 8,
   "metadata": {},
   "outputs": [],
   "source": [
    "well = 4\n",
    "b = learned['b'][0,well]\n",
    "mu = learned['mu'][0,well]\n",
    "a = learned['a'][0,well]\n",
    "bm = 0\n",
    "t_exp = dat['well'][0][well]['t']\n",
    "traces = dat['well'][0][well]['PeakTimes']\n",
    "events = []\n",
    "for j in range(len(traces[0])):\n",
    "    events.append(np.reshape(traces[0][j],-1).astype(np.float64))\n",
    "y_flat = np.hstack(events)\n",
    "x = dat['well'][0][well]['x']\n",
    "y = dat['well'][0][well]['y']\n",
    "coords = np.vstack((x[0],y[0])).T\n",
    "peaks = events\n",
    "which_cell = np.zeros(len(y_flat))\n",
    "i0 = 0\n",
    "for i in range(len(peaks)):\n",
    "    i1 = i0 + len(peaks[i])\n",
    "    which_cell[i0:i1] = i\n",
    "    i0 = i1\n",
    "nt = 1000\n",
    "y_sorted = np.sort(y_flat)\n",
    "cells_sorted = which_cell[np.argsort(y_flat)].astype(np.int)\n",
    "d = squareform(pdist(coords))\n",
    "tmax = np.max(y_sorted) + 10\n",
    "t = np.linspace(0,tmax,nt)"
   ]
  },
  {
   "cell_type": "code",
   "execution_count": 9,
   "metadata": {},
   "outputs": [
    {
     "data": {
      "image/png": "[encoded data removed]",
      "text/plain": [
       "<Figure size 921.6x633.6 with 1 Axes>"
      ]
     },
     "metadata": {
      "needs_background": "light"
     },
     "output_type": "display_data"
    }
   ],
   "source": [
    "#tlim = [200,250]\n",
    "tlim = [0, 480]\n",
    "i = 7\n",
    "for j in range(len(peaks[i])):\n",
    "    plt.plot(np.array([peaks[i][j],peaks[i][j]]), [0,np.max(ci[i])], 'k--', linewidth = 0.5)\n",
    "    pass\n",
    "#ax[i].scatter(peaks[i], 0.5*np.ones(npeaks), c = 'k', s = 5e4, marker = '|')\n",
    "plt.stackplot(t, cmu[i], cajj[i], cab[i], labels = ['Autonomous', 'Self-Excitation', 'Spatial-Excitation'])\n",
    "plt.ylabel('$\\lambda_{' + str(i+1) + '}$')\n",
    "plt.xlim(tlim)\n",
    "plt.ylim([0,0.04])\n",
    "plt.xlabel('t')\n",
    "plt.legend()\n",
    "plt.show()"
   ]
  },
  {
   "cell_type": "code",
   "execution_count": 10,
   "metadata": {},
   "outputs": [],
   "source": [
    "# return_intensity_plots(4, tlim = [100, 150], cells_to_plot = [0,7])"
   ]
  },
  {
   "cell_type": "code",
   "execution_count": 11,
   "metadata": {},
   "outputs": [],
   "source": [
    "def lognormalPDF_single(x, mu, sigma):\n",
    "    if x == 0: \n",
    "        return 0\n",
    "    numerator = np.square(np.log(x) - mu)\n",
    "    denominator = 2*np.square(sigma)\n",
    "    exponent = np.exp(-np.divide(numerator,denominator))\n",
    "    multiplier = 1./(np.sqrt(2*np.pi) * np.multiply(x, sigma))\n",
    "    pdf = np.multiply(multiplier, exponent)\n",
    "    pdf[np.isnan(pdf)] = 0.\n",
    "    return pdf"
   ]
  },
  {
   "cell_type": "code",
   "execution_count": 12,
   "metadata": {},
   "outputs": [],
   "source": [
    "def conditional_spatial_plot(well):\n",
    "    b = learned['b'][0,well]\n",
    "    mu = learned['mu'][0,well]\n",
    "    a = learned['a'][0,well]\n",
    "    ajj = learned['ajj'][0,well]\n",
    "    bjj = learned['bjj'][0,well]\n",
    "    bm = 0\n",
    "    t_exp = dat['well'][0][well]['t']\n",
    "    traces = dat['well'][0][well]['PeakTimes']\n",
    "    events = []\n",
    "    for j in range(len(traces[0])):\n",
    "        events.append(np.reshape(traces[0][j],-1).astype(np.float64))\n",
    "    y_flat = np.hstack(events)\n",
    "    x = dat['well'][0][well]['x']\n",
    "    y = dat['well'][0][well]['y']\n",
    "    coords = np.vstack((x[0],y[0])).T\n",
    "    peaks = events\n",
    "    which_cell = np.zeros(len(y_flat))\n",
    "    i0 = 0\n",
    "    for i in range(len(peaks)):\n",
    "        i1 = i0 + len(peaks[i])\n",
    "        which_cell[i0:i1] = i\n",
    "        i0 = i1\n",
    "\n",
    "    y_sorted = np.sort(y_flat)\n",
    "    cells_sorted = which_cell[np.argsort(y_flat)].astype(np.int)\n",
    "    d = squareform(pdist(coords))\n",
    "\n",
    "    tmax = np.max(y_sorted) + 10\n",
    "    #t = np.linspace(0,tmax,nt)\n",
    "    \n",
    "    N = x.shape[1]\n",
    "    peak_likelihood = np.zeros((4,len(y_sorted))) # row 0 - mu, row 1 - spatial, row 2 - self, row 3 - total\n",
    "    for j in range(1,len(y_sorted)):\n",
    "        peak_likelihood[0,j] = mu\n",
    "        for i in range(len(y_sorted[:j-1])):\n",
    "            dt = y_sorted[j] - y_sorted[i]\n",
    "            if cells_sorted[i] == j:\n",
    "                peak_likelihood[2,j] += ajj * a * lognormalPDF_single(dt, bm, bjj*b)\n",
    "            else:\n",
    "                peak_likelihood[1,j] += a * lognormalPDF_single(dt, bm, b) * (d[cells_sorted[j],cells_sorted[i]] < 60.)\n",
    "        peak_likelihood[3,j] += peak_likelihood[0,j] + peak_likelihood[1,j] + peak_likelihood[2,j]\n",
    "    percent_self = np.divide(peak_likelihood[2],peak_likelihood[3])\n",
    "    percent_spatial = np.divide(peak_likelihood[1], peak_likelihood[3])\n",
    "    \n",
    "    spatial_pct = np.zeros(N)\n",
    "    self_pct = np.zeros(N)\n",
    "    npeaks = np.zeros(N)\n",
    "    for j in range(N):\n",
    "        spatial_pct[j] = np.mean(percent_spatial[cells_sorted == j])\n",
    "        self_pct[j] = np.mean(percent_self[cells_sorted == j])\n",
    "        npeaks[j] = np.sum(cells_sorted == j)\n",
    "    #return spatial_pct, self_pct, npeaks, x, y\n",
    "\n",
    "#     fig, ax = plt.subplots(nrows = 1, ncols = 3, figsize = (21,10), sharey = True)\n",
    "   \n",
    "#     pos0 = ax[0].scatter(x[0], y[0], \n",
    "#                          c = 100 * spatial_pct, cmap = 'Blues', edgecolor = 'b', vmin = 0, vmax = 4)\n",
    "#     ax[0].set_xlim([0, 700])\n",
    "#     ax[0].set_ylim([0, 700])\n",
    "#     ax[0].set_title('Mean Spatial Contribution')\n",
    "#     fig.colorbar(pos0, ax = ax[0], orientation = 'horizontal')\n",
    "    \n",
    "#     pos1 = ax[1].scatter(x[0], y[0], c = 100 * self_pct, cmap = 'Blues', edgecolor = 'b', vmin = 0, vmax = 2.5)\n",
    "#     ax[1].set_xlim([0, 700])\n",
    "#     ax[1].set_ylim([0, 700])\n",
    "#     ax[1].set_title('Mean Self-Exciting Contribution')\n",
    "#     fig.colorbar(pos1, ax = ax[1], orientation = 'horizontal')\n",
    "    \n",
    "#     pos2 = ax[2].scatter(x[0], y[0], c = npeaks, cmap = 'Blues', edgecolor = 'b', vmin = 0, vmax = 25)\n",
    "#     ax[2].set_xlim([0, 700])\n",
    "#     ax[2].set_ylim([0, 700])\n",
    "#     ax[2].set_title('No. of Peaks')\n",
    "#     fig.colorbar(pos2, ax = ax[2], orientation = 'horizontal')\n",
    "#     #plt.colorbar()\n",
    "#     plt.show()\n",
    "    return np.nanmean(spatial_pct), np.nanmean(self_pct), spatial_pct, self_pct"
   ]
  },
  {
   "cell_type": "code",
   "execution_count": 13,
   "metadata": {},
   "outputs": [
    {
     "data": {
      "text/plain": [
       "19"
      ]
     },
     "execution_count": 13,
     "metadata": {},
     "output_type": "execute_result"
    }
   ],
   "source": [
    "len(tapi_concentrations)"
   ]
  },
  {
   "cell_type": "code",
   "execution_count": 14,
   "metadata": {
    "scrolled": false
   },
   "outputs": [],
   "source": [
    "# fig, ax = plt.subplots(nrows = 19, ncols = 3, figsize = (20,120), sharey = True, sharex = True)\n",
    "# for i in range(1,20):\n",
    "#     print(i)\n",
    "#     spatial_pct, self_pct, npeaks, x, y = conditional_spatial_plot(i)\n",
    "#     pos0 = ax[i-1,0].scatter(x[0], y[0], c = 100 * spatial_pct, cmap = 'Blues', edgecolor = 'b',\n",
    "#                         vmin = 0, vmax = 4)\n",
    "#     ax[i-1,0].set_xlim([0, 700])\n",
    "#     ax[i-1,0].set_ylim([0, 700])\n",
    "\n",
    "#     ax[i-1,0].set_ylabel('Well ' + str(i) + ', ' + str(tapi_concentrations[i-1]) + ' $\\mu$M')\n",
    "    \n",
    "    \n",
    "#     pos1 = ax[i-1,1].scatter(x[0], y[0], c = 100 * self_pct, cmap = 'Blues', edgecolor = 'b',\n",
    "#                         vmin = 0, vmax = 2)\n",
    "#     ax[i-1,1].set_xlim([0, 700])\n",
    "#     ax[i-1,1].set_ylim([0, 700])\n",
    "    \n",
    "    \n",
    "    \n",
    "#     pos2 = ax[i-1,2].scatter(x[0], y[0], c = npeaks, cmap = 'Blues', edgecolor = 'b',\n",
    "#                         vmin = 0, vmax = 25)\n",
    "#     ax[i-1,2].set_xlim([0, 700])\n",
    "#     ax[i-1,2].set_ylim([0, 700])\n",
    "    \n",
    "#     if i == 1:\n",
    "#         ax[i-1,0].set_title('Mean Spatial Contribution')\n",
    "#         ax[i-1,1].set_title('Mean Self-Exciting Contribution')\n",
    "#         ax[i-1,2].set_title('No. of Peaks')\n",
    "        \n",
    "#     if i == 19:\n",
    "#         fig.colorbar(pos0, ax = ax[18,0], orientation = 'horizontal')\n",
    "#         fig.colorbar(pos1, ax = ax[18,1], orientation = 'horizontal')\n",
    "#         fig.colorbar(pos2, ax = ax[18,2], orientation = 'horizontal')\n",
    "#     #plt.colorbar()\n",
    "# plt.savefig('spatial-ratio.pdf')"
   ]
  },
  {
   "cell_type": "code",
   "execution_count": 15,
   "metadata": {
    "scrolled": false
   },
   "outputs": [
    {
     "name": "stdout",
     "output_type": "stream",
     "text": [
      "1 : 0\n"
     ]
    },
    {
     "name": "stderr",
     "output_type": "stream",
     "text": [
      "<ipython-input-12-d53aa37409c7>:43: RuntimeWarning: invalid value encountered in true_divide\n",
      "  percent_self = np.divide(peak_likelihood[2],peak_likelihood[3])\n",
      "<ipython-input-12-d53aa37409c7>:44: RuntimeWarning: invalid value encountered in true_divide\n",
      "  percent_spatial = np.divide(peak_likelihood[1], peak_likelihood[3])\n",
      "/usr/licensed/anaconda3/2020.7/lib/python3.8/site-packages/numpy/core/fromnumeric.py:3334: RuntimeWarning: Mean of empty slice.\n",
      "  return _methods._mean(a, axis=axis, dtype=dtype,\n",
      "/usr/licensed/anaconda3/2020.7/lib/python3.8/site-packages/numpy/core/_methods.py:161: RuntimeWarning: invalid value encountered in double_scalars\n",
      "  ret = ret.dtype.type(ret / rcount)\n"
     ]
    },
    {
     "name": "stdout",
     "output_type": "stream",
     "text": [
      "2 : 0\n",
      "3 : 0\n",
      "4 : 0\n",
      "5 : 5\n",
      "6 : 5\n",
      "7 : 5\n",
      "8 : 5\n",
      "9 : 5\n",
      "10 : 10\n",
      "11 : 10\n",
      "12 : 10\n",
      "13 : 10\n",
      "14 : 10\n",
      "15 : 20\n",
      "16 : 20\n",
      "17 : 20\n",
      "18 : 20\n",
      "19 : 20\n"
     ]
    }
   ],
   "source": [
    "spatial_pct = np.zeros(20)\n",
    "self_pct = np.zeros(20)\n",
    "for i in range(1,20):\n",
    "    print(str(i) + ' : ' + str(tapi_concentrations[i-1]))\n",
    "    spatial_pct[i], self_pct[i], c, d = conditional_spatial_plot(i)"
   ]
  },
  {
   "cell_type": "code",
   "execution_count": 16,
   "metadata": {},
   "outputs": [
    {
     "data": {
      "text/plain": [
       "array([ 0,  9, 15, 11, 12, 17, 18,  5,  8, 10, 16,  2,  7,  1, 13, 19, 14,\n",
       "        6,  3,  4])"
      ]
     },
     "execution_count": 16,
     "metadata": {},
     "output_type": "execute_result"
    }
   ],
   "source": [
    "np.argsort(spatial_pct)"
   ]
  },
  {
   "cell_type": "code",
   "execution_count": 17,
   "metadata": {},
   "outputs": [],
   "source": [
    "def return_stats(mu):\n",
    "\n",
    "    ixs = [0,4,9,14,19]\n",
    "    control = mu[0:4]\n",
    "    \n",
    "    means = np.zeros(4)\n",
    "    SEs = np.zeros(4)\n",
    "    ps = np.zeros(4)\n",
    "    Ts = np.zeros(4)\n",
    "    \n",
    "    \n",
    "    for i in range(len(cs)):\n",
    "        low = ixs[i]\n",
    "        high = ixs[i+1]\n",
    "        #print(cs[i])\n",
    "        sample = mu[low:high]\n",
    "        means[i] = np.mean(sample)\n",
    "        SEs[i] = stats.sem(sample)\n",
    "        if i > 0:\n",
    "            Ts[i], ps[i] = stats.ttest_ind(control, sample, equal_var = False)\n",
    "            #print(stats.ttest_ind(control, sample, equal_var = False))\n",
    "    return means, SEs, ps, Ts"
   ]
  },
  {
   "cell_type": "code",
   "execution_count": 18,
   "metadata": {},
   "outputs": [],
   "source": [
    "means, SEs, ps, Ts = return_stats(spatial_pct[1:])"
   ]
  },
  {
   "cell_type": "code",
   "execution_count": 19,
   "metadata": {},
   "outputs": [
    {
     "data": {
      "image/png": "[encoded data removed]",
      "text/plain": [
       "<Figure size 921.6x633.6 with 1 Axes>"
      ]
     },
     "metadata": {
      "needs_background": "light"
     },
     "output_type": "display_data"
    }
   ],
   "source": [
    "plt.scatter(tapi_concentrations, 100 * spatial_pct[1:], label = 'Average Spatial Contribution (%)', c = 'k')\n",
    "plt.errorbar([0,5,10,20], 100 * means, yerr = 100 * SEs, fmt = 'bo-', \n",
    "                 capsize= 5, elinewidth=3, markeredgewidth = 3, linewidth = 3)\n",
    "#plt.scatter(tapi_concentrations, self_pct[1:], label = 'Average Spatial Contribution (%)')\n",
    "plt.legend()\n",
    "plt.xlabel('Tapi Concentration')\n",
    "plt.ylabel('Average % of $\\lambda$ at each event from spatial contributions')\n",
    "plt.savefig('tapi-spatial-pct-' + date + '.pdf')\n"
   ]
  },
  {
   "cell_type": "code",
   "execution_count": 20,
   "metadata": {},
   "outputs": [],
   "source": [
    "# np.argmax(spatial_pct)"
   ]
  },
  {
   "cell_type": "code",
   "execution_count": 21,
   "metadata": {},
   "outputs": [],
   "source": [
    "# a,b,c,d = conditional_spatial_plot(4)"
   ]
  },
  {
   "cell_type": "code",
   "execution_count": 22,
   "metadata": {},
   "outputs": [],
   "source": [
    "# well = 4\n",
    "# traces = dat['well'][0][well]['PeakTimes']\n",
    "# events = []\n",
    "# for j in range(len(traces[0])):\n",
    "#     events.append(np.reshape(traces[0][j],-1).astype(np.float64))\n",
    "# y_flat = np.hstack(events)\n",
    "# x = dat['well'][0][well]['x']\n",
    "# y = dat['well'][0][well]['y']\n",
    "# coords = np.vstack((x[0],y[0])).T"
   ]
  },
  {
   "cell_type": "code",
   "execution_count": 23,
   "metadata": {},
   "outputs": [],
   "source": [
    "# d = squareform(pdist(coords))"
   ]
  },
  {
   "cell_type": "code",
   "execution_count": null,
   "metadata": {},
   "outputs": [],
   "source": []
  },
  {
   "cell_type": "code",
   "execution_count": null,
   "metadata": {
    "scrolled": false
   },
   "outputs": [],
   "source": []
  },
  {
   "cell_type": "code",
   "execution_count": null,
   "metadata": {},
   "outputs": [],
   "source": []
  },
  {
   "cell_type": "code",
   "execution_count": null,
   "metadata": {},
   "outputs": [],
   "source": []
  }
 ],
 "metadata": {
  "kernelspec": {
   "display_name": "Python 3",
   "language": "python",
   "name": "python3"
  },
  "language_info": {
   "codemirror_mode": {
    "name": "ipython",
    "version": 3
   },
   "file_extension": ".py",
   "mimetype": "text/x-python",
   "name": "python",
   "nbconvert_exporter": "python",
   "pygments_lexer": "ipython3",
   "version": "3.8.3"
  }
 },
 "nbformat": 4,
 "nbformat_minor": 4
}
