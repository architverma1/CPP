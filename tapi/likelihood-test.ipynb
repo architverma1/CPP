{
 "cells": [
  {
   "cell_type": "code",
   "execution_count": 1,
   "metadata": {},
   "outputs": [],
   "source": [
    "import sys\n",
    "sys.path.insert(0, '/tigress/architv/drug-lfm/point-processes/beta-prior')\n",
    "from cpp2g import CPP2"
   ]
  },
  {
   "cell_type": "code",
   "execution_count": 2,
   "metadata": {},
   "outputs": [],
   "source": [
    "import numpy as np\n",
    "import pandas as pd\n",
    "import matplotlib.pyplot as plt"
   ]
  },
  {
   "cell_type": "code",
   "execution_count": 3,
   "metadata": {},
   "outputs": [],
   "source": [
    "plt.style.use('seaborn-poster')"
   ]
  },
  {
   "cell_type": "code",
   "execution_count": 4,
   "metadata": {},
   "outputs": [],
   "source": [
    "from scipy.io import loadmat"
   ]
  },
  {
   "cell_type": "code",
   "execution_count": 5,
   "metadata": {},
   "outputs": [],
   "source": [
    "learned = np.load('learned-103120.npz')\n",
    "dat = loadmat('/tigress/architv/ORGANIZED_CODE_FOR_UPLOAD/tapi_dose.mat')"
   ]
  },
  {
   "cell_type": "code",
   "execution_count": 6,
   "metadata": {},
   "outputs": [
    {
     "data": {
      "text/plain": [
       "array('cpp2g - epsilon = 60, init with mu = half control mu, a = half control mu, b = .01*ones, bjj = 1, model with self',\n",
       "      dtype='<U113')"
      ]
     },
     "execution_count": 6,
     "metadata": {},
     "output_type": "execute_result"
    }
   ],
   "source": [
    "learned['note']"
   ]
  },
  {
   "cell_type": "code",
   "execution_count": 7,
   "metadata": {},
   "outputs": [],
   "source": [
    "tapi_concentrations = np.array([0,0,0,0, 5,5,5,5,5, 10,10,10,10,10, 20,20,20,20,20])\n",
    "cs = np.unique(tapi_concentrations)"
   ]
  },
  {
   "cell_type": "code",
   "execution_count": 8,
   "metadata": {},
   "outputs": [],
   "source": [
    "dat = loadmat('/tigress/architv/ORGANIZED_CODE_FOR_UPLOAD/tapi_dose.mat')"
   ]
  },
  {
   "cell_type": "code",
   "execution_count": 9,
   "metadata": {},
   "outputs": [],
   "source": [
    "control_mu = np.zeros(20)\n",
    "for i in range(20):\n",
    "    well = i\n",
    "    traces = dat['well'][0][well]['PeakTimes']\n",
    "    peaks = 0\n",
    "    for j in range(len(traces[0])):\n",
    "        peaks += len(traces[0][j])\n",
    "    x = dat['well'][0][well]['x']\n",
    "    control_mu[i] = peaks/(480. * x.shape[1])"
   ]
  },
  {
   "cell_type": "code",
   "execution_count": 10,
   "metadata": {},
   "outputs": [],
   "source": [
    "control_likelihood = np.zeros(20)"
   ]
  },
  {
   "cell_type": "code",
   "execution_count": 11,
   "metadata": {},
   "outputs": [],
   "source": [
    "lpp = CPP2()"
   ]
  },
  {
   "cell_type": "code",
   "execution_count": 12,
   "metadata": {},
   "outputs": [
    {
     "data": {
      "text/plain": [
       "60.0"
      ]
     },
     "execution_count": 12,
     "metadata": {},
     "output_type": "execute_result"
    }
   ],
   "source": [
    "learned['epsilon'][0,1]"
   ]
  },
  {
   "cell_type": "code",
   "execution_count": 13,
   "metadata": {},
   "outputs": [
    {
     "name": "stderr",
     "output_type": "stream",
     "text": [
      "/tigress/architv/drug-lfm/point-processes/beta-prior/cpp2g.py:21: RuntimeWarning: divide by zero encountered in log\n",
      "  return np.log(np.exp(x) - 1)\n"
     ]
    }
   ],
   "source": [
    "for i in range(1,20):\n",
    "    well = i\n",
    "    t = dat['well'][0][well]['t']\n",
    "    traces = dat['well'][0][well]['PeakTimes']\n",
    "    events = []\n",
    "    for j in range(len(traces[0])):\n",
    "        events.append(np.reshape(traces[0][j],-1).astype(np.float64))\n",
    "    x = dat['well'][0][well]['x']\n",
    "    y = dat['well'][0][well]['y']\n",
    "    coords = np.vstack((x[0],y[0])).T\n",
    "    \n",
    "    lpp = CPP2()\n",
    "    \n",
    "    \n",
    "    lpp.input_data(events, coords, np.zeros(coords.shape[0], dtype = np.int))\n",
    "    lpp.set_init(nclusters = 1, mu_init = control_mu[i] * np.ones((1,)), \n",
    "                 a_init = np.zeros((1,1)), ajj_init = np.zeros((1,)),\n",
    "                 b_init = learned['b'][0,i,0,0] * np.ones((1,1)),\n",
    "                 epsilon_init = learned['epsilon'][0,i], tmax = 480)\n",
    "    lpp.sharpness = 1\n",
    "    control_likelihood[i] = lpp.negLogL_with_self(lpp.y_sorted, lpp.cells_sorted, lpp.d, lpp.clusters,\n",
    "                                       control = True).data"
   ]
  },
  {
   "cell_type": "code",
   "execution_count": null,
   "metadata": {},
   "outputs": [],
   "source": []
  },
  {
   "cell_type": "code",
   "execution_count": null,
   "metadata": {},
   "outputs": [],
   "source": []
  },
  {
   "cell_type": "code",
   "execution_count": 14,
   "metadata": {},
   "outputs": [],
   "source": [
    "lr_diff = (-learned['likelihood'][0]) - (-control_likelihood)"
   ]
  },
  {
   "cell_type": "code",
   "execution_count": 15,
   "metadata": {},
   "outputs": [
    {
     "data": {
      "image/png": "[encoded data removed]",
      "text/plain": [
       "<Figure size 921.6x633.6 with 1 Axes>"
      ]
     },
     "metadata": {
      "needs_background": "light"
     },
     "output_type": "display_data"
    }
   ],
   "source": [
    "plt.scatter(tapi_concentrations, lr_diff[1:], c = 'k')\n",
    "plt.xlabel('Tapi Concentration $\\mu$L/mL')\n",
    "plt.ylabel('$\\ell(\\hat{\\Theta})-\\ell(\\Theta_0)$')\n",
    "plt.savefig('tapi-likelihood-103120.pdf')"
   ]
  },
  {
   "cell_type": "code",
   "execution_count": null,
   "metadata": {},
   "outputs": [],
   "source": []
  },
  {
   "cell_type": "code",
   "execution_count": 16,
   "metadata": {},
   "outputs": [
    {
     "data": {
      "text/plain": [
       "array([   0.        , 4799.47802734, 4633.29101562, 5000.68994141,\n",
       "       4800.99609375, 5113.40820312, 4393.29833984, 5587.16699219,\n",
       "       2908.99707031, 1842.74658203, 5202.91210938, 5198.99902344,\n",
       "       4586.03027344, 5034.30078125, 5184.203125  , 4432.85693359,\n",
       "       4385.29150391, 3987.93115234, 5220.36474609, 4683.3125    ])"
      ]
     },
     "execution_count": 16,
     "metadata": {},
     "output_type": "execute_result"
    }
   ],
   "source": [
    "learned['likelihood'][0]"
   ]
  },
  {
   "cell_type": "code",
   "execution_count": null,
   "metadata": {},
   "outputs": [],
   "source": []
  }
 ],
 "metadata": {
  "kernelspec": {
   "display_name": "pyro [~/.conda/envs/pyro/]",
   "language": "python",
   "name": "conda_pyro"
  },
  "language_info": {
   "codemirror_mode": {
    "name": "ipython",
    "version": 3
   },
   "file_extension": ".py",
   "mimetype": "text/x-python",
   "name": "python",
   "nbconvert_exporter": "python",
   "pygments_lexer": "ipython3",
   "version": "3.6.10"
  }
 },
 "nbformat": 4,
 "nbformat_minor": 4
}
